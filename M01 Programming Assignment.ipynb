{
 "cells": [
  {
   "cell_type": "code",
   "execution_count": 13,
   "id": "576e2d12-81d9-4f8e-9aeb-f7bbb2749e98",
   "metadata": {},
   "outputs": [
    {
     "name": "stdout",
     "output_type": "stream",
     "text": [
      "There are 3600 seconds in a hour.\n"
     ]
    }
   ],
   "source": [
    "#Find how many seconds are in one hour\n",
    "\n",
    "seconds_per_minute = 60\n",
    "minutes_per_hour = 60\n",
    "\n",
    "seconds_per_hour = seconds_per_minute * minutes_per_hour\n",
    "\n",
    "print(\"There are\" ,seconds_per_hour, \"seconds in a hour.\")  "
   ]
  },
  {
   "cell_type": "code",
   "execution_count": 14,
   "id": "f48bd682-7af9-44a9-a7e5-072322ac67fc",
   "metadata": {},
   "outputs": [
    {
     "name": "stdout",
     "output_type": "stream",
     "text": [
      "There are 86400 seconds in a day.\n"
     ]
    }
   ],
   "source": [
    "#Find how many seconds are in one day\n",
    "\n",
    "hours_per_day = 24\n",
    "seconds_per_day = seconds_per_hour * hours_per_day\n",
    "\n",
    "print(\"There are\" ,seconds_per_day, \"seconds in a day.\")"
   ]
  },
  {
   "cell_type": "code",
   "execution_count": 16,
   "id": "58426528-89a5-4524-86d1-35120bd79e3b",
   "metadata": {},
   "outputs": [
    {
     "name": "stdout",
     "output_type": "stream",
     "text": [
      "Using float point division = 24.0\n"
     ]
    }
   ],
   "source": [
    "#Find how many hours are in a day with float point division\n",
    "\n",
    "seconds_per_day_float = seconds_per_day / seconds_per_hour\n",
    "\n",
    "print(\"Using float point division =\" ,seconds_per_day_float) "
   ]
  },
  {
   "cell_type": "code",
   "execution_count": 17,
   "id": "12d0949e-c7a9-4136-b742-8da9d50c2da5",
   "metadata": {},
   "outputs": [
    {
     "name": "stdout",
     "output_type": "stream",
     "text": [
      "Using integer division = 24\n"
     ]
    }
   ],
   "source": [
    "#Find how many hours are in a day with integer division\n",
    "\n",
    "seconds_per_day_integer = seconds_per_day // seconds_per_hour\n",
    "\n",
    "print(\"Using integer division =\" ,seconds_per_day_integer)"
   ]
  },
  {
   "cell_type": "code",
   "execution_count": null,
   "id": "d482fd08-bdde-400e-8552-ef5e9211d95a",
   "metadata": {},
   "outputs": [],
   "source": []
  }
 ],
 "metadata": {
  "kernelspec": {
   "display_name": "Python 3 (ipykernel)",
   "language": "python",
   "name": "python3"
  },
  "language_info": {
   "codemirror_mode": {
    "name": "ipython",
    "version": 3
   },
   "file_extension": ".py",
   "mimetype": "text/x-python",
   "name": "python",
   "nbconvert_exporter": "python",
   "pygments_lexer": "ipython3",
   "version": "3.11.7"
  }
 },
 "nbformat": 4,
 "nbformat_minor": 5
}
